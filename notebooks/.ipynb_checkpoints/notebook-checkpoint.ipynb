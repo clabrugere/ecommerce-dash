{
 "cells": [
  {
   "cell_type": "markdown",
   "metadata": {},
   "source": [
    "# Modules"
   ]
  },
  {
   "cell_type": "code",
   "execution_count": 51,
   "metadata": {},
   "outputs": [
    {
     "name": "stdout",
     "output_type": "stream",
     "text": [
      "The autoreload extension is already loaded. To reload it, use:\n",
      "  %reload_ext autoreload\n"
     ]
    }
   ],
   "source": [
    "%load_ext autoreload\n",
    "%autoreload 2"
   ]
  },
  {
   "cell_type": "code",
   "execution_count": 52,
   "metadata": {},
   "outputs": [],
   "source": [
    "import sys\n",
    "\n",
    "import urllib.request\n",
    "import numpy as np\n",
    "import pandas as pd\n",
    "\n",
    "import matplotlib.pyplot as plt\n",
    "from matplotlib.ticker import FuncFormatter, StrMethodFormatter\n",
    "import matplotlib\n",
    "\n",
    "from IPython.display import display, HTML\n",
    "from ipywidgets import interact, interactive, fixed, interact_manual\n",
    "import ipywidgets as widgets\n",
    "\n",
    "sys.path.append('..')\n",
    "import config, data\n",
    "\n",
    "plt.rcParams.update(plt.rcParamsDefault)\n",
    "plt.style.use(['ggplot', 'bmh'])\n",
    "matplotlib.rcParams['figure.figsize'] = (10.0, 10.0)\n",
    "\n",
    "display_settings = {\n",
    "    'max_columns': 999,\n",
    "    'expand_frame_repr': True,\n",
    "    'max_rows': 999,\n",
    "    'precision': 4,\n",
    "    'show_dimensions': True\n",
    "}\n",
    "\n",
    "for op, value in display_settings.items():\n",
    "    pd.set_option(\"display.{}\".format(op), value)\n",
    "\n",
    "\n",
    "%matplotlib inline"
   ]
  },
  {
   "cell_type": "markdown",
   "metadata": {},
   "source": [
    "# Data"
   ]
  },
  {
   "cell_type": "code",
   "execution_count": 54,
   "metadata": {},
   "outputs": [
    {
     "ename": "AttributeError",
     "evalue": "module 'pandas' has no attribute 'to_csv'",
     "output_type": "error",
     "traceback": [
      "\u001b[1;31m---------------------------------------------------------------------------\u001b[0m",
      "\u001b[1;31mAttributeError\u001b[0m                            Traceback (most recent call last)",
      "\u001b[1;32m<ipython-input-54-0f37c847c907>\u001b[0m in \u001b[0;36m<module>\u001b[1;34m\u001b[0m\n\u001b[0;32m     28\u001b[0m \u001b[1;33m\u001b[0m\u001b[0m\n\u001b[0;32m     29\u001b[0m \u001b[1;31m# save\u001b[0m\u001b[1;33m\u001b[0m\u001b[1;33m\u001b[0m\u001b[1;33m\u001b[0m\u001b[0m\n\u001b[1;32m---> 30\u001b[1;33m \u001b[0mdf_order\u001b[0m \u001b[1;33m=\u001b[0m \u001b[0mpd\u001b[0m\u001b[1;33m.\u001b[0m\u001b[0mto_csv\u001b[0m\u001b[1;33m(\u001b[0m\u001b[0mconfig\u001b[0m\u001b[1;33m.\u001b[0m\u001b[0mget_processed_filename\u001b[0m\u001b[1;33m(\u001b[0m\u001b[0mconfig\u001b[0m\u001b[1;33m.\u001b[0m\u001b[0mDATA_FILES\u001b[0m\u001b[1;33m[\u001b[0m\u001b[1;34m'order'\u001b[0m\u001b[1;33m]\u001b[0m\u001b[1;33m)\u001b[0m\u001b[1;33m)\u001b[0m\u001b[1;33m\u001b[0m\u001b[1;33m\u001b[0m\u001b[0m\n\u001b[0m\u001b[0;32m     31\u001b[0m \u001b[0mdf_order_item\u001b[0m \u001b[1;33m=\u001b[0m \u001b[0mpd\u001b[0m\u001b[1;33m.\u001b[0m\u001b[0mto_csv\u001b[0m\u001b[1;33m(\u001b[0m\u001b[0mconfig\u001b[0m\u001b[1;33m.\u001b[0m\u001b[0mget_processed_filename\u001b[0m\u001b[1;33m(\u001b[0m\u001b[0mconfig\u001b[0m\u001b[1;33m.\u001b[0m\u001b[0mDATA_FILES\u001b[0m\u001b[1;33m[\u001b[0m\u001b[1;34m'order_item'\u001b[0m\u001b[1;33m]\u001b[0m\u001b[1;33m)\u001b[0m\u001b[1;33m)\u001b[0m\u001b[1;33m\u001b[0m\u001b[1;33m\u001b[0m\u001b[0m\n\u001b[0;32m     32\u001b[0m \u001b[0mdf_order_payment\u001b[0m \u001b[1;33m=\u001b[0m \u001b[0mpd\u001b[0m\u001b[1;33m.\u001b[0m\u001b[0mto_csv\u001b[0m\u001b[1;33m(\u001b[0m\u001b[0mconfig\u001b[0m\u001b[1;33m.\u001b[0m\u001b[0mget_processed_filename\u001b[0m\u001b[1;33m(\u001b[0m\u001b[0mconfig\u001b[0m\u001b[1;33m.\u001b[0m\u001b[0mDATA_FILES\u001b[0m\u001b[1;33m[\u001b[0m\u001b[1;34m'order_payment'\u001b[0m\u001b[1;33m]\u001b[0m\u001b[1;33m)\u001b[0m\u001b[1;33m)\u001b[0m\u001b[1;33m\u001b[0m\u001b[1;33m\u001b[0m\u001b[0m\n",
      "\u001b[1;32mD:\\Programmes\\Anaconda3\\lib\\site-packages\\pandas\\__init__.py\u001b[0m in \u001b[0;36m__getattr__\u001b[1;34m(name)\u001b[0m\n\u001b[0;32m    260\u001b[0m             \u001b[1;32mreturn\u001b[0m \u001b[0m_SparseArray\u001b[0m\u001b[1;33m\u001b[0m\u001b[1;33m\u001b[0m\u001b[0m\n\u001b[0;32m    261\u001b[0m \u001b[1;33m\u001b[0m\u001b[0m\n\u001b[1;32m--> 262\u001b[1;33m         \u001b[1;32mraise\u001b[0m \u001b[0mAttributeError\u001b[0m\u001b[1;33m(\u001b[0m\u001b[1;34mf\"module 'pandas' has no attribute '{name}'\"\u001b[0m\u001b[1;33m)\u001b[0m\u001b[1;33m\u001b[0m\u001b[1;33m\u001b[0m\u001b[0m\n\u001b[0m\u001b[0;32m    263\u001b[0m \u001b[1;33m\u001b[0m\u001b[0m\n\u001b[0;32m    264\u001b[0m \u001b[1;33m\u001b[0m\u001b[0m\n",
      "\u001b[1;31mAttributeError\u001b[0m: module 'pandas' has no attribute 'to_csv'"
     ]
    }
   ],
   "source": [
    "# load datasets\n",
    "df_order = pd.read_csv(config.get_raw_filename(config.DATA_FILES['order']))\n",
    "df_order_item = pd.read_csv(config.get_raw_filename(config.DATA_FILES['order_item']))\n",
    "df_order_payment = pd.read_csv(config.get_raw_filename(config.DATA_FILES['order_payment']))\n",
    "df_order_review = pd.read_csv(config.get_raw_filename(config.DATA_FILES['order_review']))\n",
    "\n",
    "df_customer = pd.read_csv(config.get_raw_filename(config.DATA_FILES['customer']))\n",
    "df_product = pd.read_csv(config.get_raw_filename(config.DATA_FILES['product']))\n",
    "df_product_category_translation = pd.read_csv(config.get_raw_filename(config.DATA_FILES['product_category_translation']))\n",
    "df_seller = pd.read_csv(config.get_raw_filename(config.DATA_FILES['seller']))\n",
    "\n",
    "df_geolocation = pd.read_csv(config.get_raw_filename(config.DATA_FILES['geolocation']))\n",
    "\n",
    "\n",
    "# filter data to keep only 2018\n",
    "df_order = df_order[df_order['order_purchase_timestamp'] >= '2018-01-01']\n",
    "df_order_item = df_order_item[df_order_item['order_id'].isin(df_order['order_id'].unique())]\n",
    "df_order_payment = df_order_payment[df_order_payment['order_id'].isin(df_order['order_id'].unique())]\n",
    "df_order_review = df_order_review[df_order_review['order_id'].isin(df_order['order_id'].unique())]\n",
    "\n",
    "df_customer = df_customer[df_customer['customer_id'].isin(df_order['customer_id'].unique())]\n",
    "df_geolocation = df_geolocation[df_geolocation['geolocation_zip_code_prefix'].isin(df_customer['customer_zip_code_prefix'].unique())]\n",
    "\n",
    "df_product = df_product[df_product['product_id'].isin(df_order_item['product_id'].unique())]\n",
    "df_product_category_translation = df_product_category_translation[df_product_category_translation['product_category_name'].isin(df_product['product_category_name'].unique())]\n",
    "df_seller = df_seller[df_seller['seller_id'].isin(df_order_item['seller_id'].unique())]\n",
    "\n",
    "# save\n",
    "df_order.to_csv(config.get_processed_filename(config.DATA_FILES['order']))\n",
    "df_order_item.to_csv(config.get_processed_filename(config.DATA_FILES['order_item']))\n",
    "df_order_payment.to_csv(config.get_processed_filename(config.DATA_FILES['order_payment']))\n",
    "df_order_review.to_csv(config.get_processed_filename(config.DATA_FILES['order_review']))\n",
    "\n",
    "df_customer.to_csv(config.get_processed_filename(config.DATA_FILES['customer']))\n",
    "df_product.to_csv(config.get_processed_filename(config.DATA_FILES['product']))\n",
    "df_product_category_translation.to_csv(config.get_processed_filename(config.DATA_FILES['product_category_translation']))\n",
    "df_seller.to_csv(config.get_processed_filename(config.DATA_FILES['seller']))\n",
    "\n",
    "df_geolocation.to_csv(config.get_processed_filename(config.DATA_FILES['geolocation']))\n"
   ]
  },
  {
   "cell_type": "markdown",
   "metadata": {},
   "source": [
    "# EDA"
   ]
  },
  {
   "cell_type": "code",
   "execution_count": null,
   "metadata": {},
   "outputs": [],
   "source": []
  },
  {
   "cell_type": "code",
   "execution_count": null,
   "metadata": {},
   "outputs": [],
   "source": []
  },
  {
   "cell_type": "code",
   "execution_count": null,
   "metadata": {},
   "outputs": [],
   "source": []
  }
 ],
 "metadata": {
  "kernelspec": {
   "display_name": "Python 3",
   "language": "python",
   "name": "python3"
  },
  "language_info": {
   "codemirror_mode": {
    "name": "ipython",
    "version": 3
   },
   "file_extension": ".py",
   "mimetype": "text/x-python",
   "name": "python",
   "nbconvert_exporter": "python",
   "pygments_lexer": "ipython3",
   "version": "3.7.6"
  }
 },
 "nbformat": 4,
 "nbformat_minor": 4
}
